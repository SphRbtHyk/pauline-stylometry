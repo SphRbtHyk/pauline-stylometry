{
 "cells": [
  {
   "cell_type": "markdown",
   "metadata": {},
   "source": [
    "# Normalize the data"
   ]
  },
  {
   "cell_type": "code",
   "execution_count": 6,
   "metadata": {},
   "outputs": [],
   "source": [
    "import pandas as pd\n",
    "from pathlib import Path"
   ]
  },
  {
   "cell_type": "code",
   "execution_count": 30,
   "metadata": {},
   "outputs": [],
   "source": [
    "def rename_book(old_name):\n",
    "    \"\"\"Match the names between the SBLGNT and Paul version\"\"\"\n",
    "    case_ = {\n",
    "        \"1_corinthians\": \"1Co\",\n",
    "        \"galatians\": \"Ga\",\n",
    "        \"philippians\": \"Php\",\n",
    "        \"philomenon\": \"Phm\",\n",
    "        \"romans\": \"Ro\",\n",
    "    }\n",
    "    return case_.get(old_name, old_name)"
   ]
  },
  {
   "cell_type": "code",
   "execution_count": 31,
   "metadata": {},
   "outputs": [],
   "source": [
    "def clean_dataset(path: str):\n",
    "    \"\"\"Given an encoded dataset, perform the cleaning.\"\"\"\n",
    "    book_title = rename_book(Path(path).stem)\n",
    "    dataset = pd.read_csv(path)\n",
    "\n",
    "    sub_dfs = []\n",
    "    for row in dataset.iterrows():\n",
    "        if not pd.isna(row[1][\"Appearances\"]):\n",
    "            for app in row[1][\"Appearances\"].split(\",\"):\n",
    "                chapter = int(app.split(\".\")[0].strip())\n",
    "                verse = int(app.split(\".\")[1].strip())\n",
    "                ix = f\"{book_title}:{chapter}:{verse}\"\n",
    "                sub_dfs.append(\n",
    "                    pd.DataFrame(\n",
    "                        {\n",
    "                            \"ix\": ix,\n",
    "                            \"book\": book_title,\n",
    "                            \"chapter\": chapter,\n",
    "                            \"verse\": verse,\n",
    "                            \"category\": row[1][\"Characteristics\"],\n",
    "                        },\n",
    "                        index=[0],\n",
    "                    )\n",
    "                )\n",
    "    return pd.concat(sub_dfs)"
   ]
  },
  {
   "cell_type": "code",
   "execution_count": 32,
   "metadata": {},
   "outputs": [],
   "source": [
    "sub_dfs = []\n",
    "for file in Path(\"../data/raw/paul_data/\").glob(\"*.csv\"):\n",
    "    sub_dfs.append(clean_dataset(file))\n",
    "pd.concat(sub_dfs).to_csv(\"../data/cleaned/top_down/top_down.csv\", index=False)\n"
   ]
  }
 ],
 "metadata": {
  "kernelspec": {
   "display_name": "venv",
   "language": "python",
   "name": "python3"
  },
  "language_info": {
   "codemirror_mode": {
    "name": "ipython",
    "version": 3
   },
   "file_extension": ".py",
   "mimetype": "text/x-python",
   "name": "python",
   "nbconvert_exporter": "python",
   "pygments_lexer": "ipython3",
   "version": "3.11.7"
  }
 },
 "nbformat": 4,
 "nbformat_minor": 2
}
