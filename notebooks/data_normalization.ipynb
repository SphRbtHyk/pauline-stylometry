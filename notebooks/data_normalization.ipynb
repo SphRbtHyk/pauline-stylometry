{
 "cells": [
  {
   "cell_type": "markdown",
   "metadata": {},
   "source": [
    "# Normalize the data"
   ]
  },
  {
   "cell_type": "code",
   "execution_count": 25,
   "metadata": {},
   "outputs": [],
   "source": [
    "import pandas as pd\n",
    "from pathlib import Path"
   ]
  },
  {
   "cell_type": "code",
   "execution_count": 8,
   "metadata": {},
   "outputs": [],
   "source": [
    "dataset = pd.read_csv(\"../data/raw/1_corinthians.csv\")"
   ]
  },
  {
   "cell_type": "code",
   "execution_count": 26,
   "metadata": {},
   "outputs": [],
   "source": [
    "def clean_dataset(path: str):\n",
    "    \"\"\"Given an encoded dataset, perform the cleaning.\n",
    "    \"\"\"\n",
    "    book_title = Path(path).stem\n",
    "    dataset = pd.read_csv(path)\n",
    "\n",
    "    sub_dfs = []\n",
    "    for row in dataset.iterrows():\n",
    "        if not pd.isna(row[1][\"Appearances\"]):\n",
    "            for app in row[1][\"Appearances\"].split(\",\"):\n",
    "                chapter = int(app.split(\".\")[0].strip())\n",
    "                verse = int(app.split(\".\")[1].strip())\n",
    "                sub_dfs.append(pd.DataFrame({\"book\": book_title,\n",
    "                                            \"chapter\": chapter, \n",
    "                                             \"verse\": verse,\n",
    "                                             \"category\": row[1][\"Characteristics\"]}, index=[0]))    \n",
    "    return pd.concat(sub_dfs)"
   ]
  },
  {
   "cell_type": "code",
   "execution_count": 32,
   "metadata": {},
   "outputs": [
    {
     "name": "stdout",
     "output_type": "stream",
     "text": [
      "../data/raw/philomenon.csv\n",
      "../data/raw/1_corinthians.csv\n",
      "../data/raw/philippians.csv\n",
      "../data/raw/galatians.csv\n",
      "../data/raw/romans.csv\n"
     ]
    }
   ],
   "source": [
    "sub_dfs = []\n",
    "for file in Path(\"../data/raw\").glob(\"*.csv\"):\n",
    "    print(file)\n",
    "    sub_dfs.append(clean_dataset(file))\n",
    "pd.concat(sub_dfs).to_csv(\"../data/cleaned/top_down/top_down.csv\", index=False)\n"
   ]
  }
 ],
 "metadata": {
  "kernelspec": {
   "display_name": "venv",
   "language": "python",
   "name": "python3"
  },
  "language_info": {
   "codemirror_mode": {
    "name": "ipython",
    "version": 3
   },
   "file_extension": ".py",
   "mimetype": "text/x-python",
   "name": "python",
   "nbconvert_exporter": "python",
   "pygments_lexer": "ipython3",
   "version": "3.12.4"
  }
 },
 "nbformat": 4,
 "nbformat_minor": 2
}
